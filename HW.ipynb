{
 "cells": [
  {
   "cell_type": "markdown",
   "metadata": {},
   "source": [
    "# Компьютерный практикум\n",
    "## Домашняя работа 1, модуль 4\n",
    "\n",
    "###### Бобер Станислав Алексеевич\n",
    "###### Ст. преп. Департамента Прикладной Математики\n",
    "###### e-mail: sbober@hse.ru, stas.bober@gmail.com"
   ]
  },
  {
   "cell_type": "markdown",
   "metadata": {},
   "source": [
    "-----\n",
    "#### Выполненную работу необходимо загрузить по ссылке:\n",
    "[ЗАГРУЗИТЬ РЕШЕНИЕ](https://www.dropbox.com/request/bIOWV6R94rHZwx3a643F)\n",
    "\n"
   ]
  },
  {
   "cell_type": "markdown",
   "metadata": {},
   "source": [
    "-----\n",
    "**Решения необходимо выполнить в этом ноутбуке в одной или несколькиих ячейках с кодом,\n",
    "следующих непосредственно после ячейки с надписью \"Задание X\", где X - целое число.**\n",
    "\n",
    "**Каждое решение должно быть рабочим независимо от остального кода в этом ноутбуке.**"
   ]
  },
  {
   "cell_type": "markdown",
   "metadata": {
    "task": 0
   },
   "source": [
    "-----\n",
    "#### Задание 0\n",
    "\n",
    "В архиве `evolution.zip` находятся 360 файлов с именами `evolution_NNN.txt`, где `NNN = 000...359` - номер орбиты. В первом столбце каждого файла записаны расстояния (в км) перицентров орбиты (ближайших к планете точек) на каждый из 225 дней.\n",
    "\n",
    "Необходимо:\n",
    "1. Сформировать `DataFrame`, в котором 225 столбцов и 360 строк. Каждая строка соответствует орбите, а столбец - дню. В ячейках записаны расстояния перицентров.\n",
    "2. Найти номера орбит, расстояние перицентров которых всегда больше 6350 км.\n",
    "3. Изобразить цветовую карту (`contourf`): по оси абсцисс - номер орбиты, по оси ординат - номер дня, цветом отображены расстояния перицентров. Рядом с цветовой картой изобразить colorbar.\n",
    "4. Изобразить поверх цветовой карты изолинии (`contour`), соответствующие уровням 6050, 6250, 6350 км."
   ]
  },
  {
   "cell_type": "code",
   "execution_count": null,
   "metadata": {},
   "outputs": [],
   "source": [
    "# подключение модуля и сокращение названия для удобства\n",
    "import pandas as pd\n",
    "\n",
    "# для использования функций numpy\n",
    "import numpy as np\n",
    "#для отрисовки графиков\n",
    "import matplotlib.pyplot as plt\n",
    "\n",
    "import zipfile\n",
    "for i in range(361):\n",
    "    for j in range(226):\n",
    "        hey=pd.DataFrame({ j: [] }, index = i )\n",
    "        \n",
    "hey\n",
    "\n",
    "z = zipfile.ZipFile('evolution.zip', 'r')\n",
    "\n",
    "z.extractall()\n",
    "\n",
    "for name in z.namelist(): #проходимся по именам файлов \n",
    "    with open(name, \"r\") as file:\n",
    "        contents = file.readlines()#считываем все строки из файла\n",
    "        #print(len(contents)) выводит количество строк\n",
    "        for i in range(1, len(contents)):\n",
    "            #print (((str(contents[i])).split(' '))[0], '\\n')\n",
    "            #print (i)\n",
    "            \n",
    "       \n",
    "    \n",
    "z.close() #закроем архив    "
   ]
  },
  {
   "cell_type": "code",
   "execution_count": null,
   "metadata": {},
   "outputs": [],
   "source": []
  },
  {
   "cell_type": "code",
   "execution_count": null,
   "metadata": {},
   "outputs": [],
   "source": []
  },
  {
   "cell_type": "markdown",
   "metadata": {
    "task": 1
   },
   "source": [
    "-----\n",
    "#### Задание 1\n",
    "\n",
    "В файле `PR_HLY_L1_Sun-Earth (default).npy` находится массив `numpy` с плоскими кривыми - горизонтальными орбитами Ляпунова, лежащими в плоскости XY. Орбиты заданы в полярной системе координат `r-theta` с центром в точке $L_1$, лежащей на оси X. Каждой орбите соответствует строка массива, где записаны длины радиус-векторов каждой точки орбиты от точки $L_1$. Все радиус-вектора соответствуют углам `theta = np.linspace(0., np.pi, 720)`.\n",
    "Функция `w` определена ниже.\n",
    "\n",
    "Необходимо: \n",
    "1. На каждой орбите найти точку, соответствующую минимуму функции $\\omega$\n",
    "2. Изобразить на графике все орбиты и найденные точки\n",
    "\n",
    "$ w(x,y) = \\frac{x^2 + y^2}{2} + \\frac{1 - \\mu}{r_1} + \\frac{\\mu}{r_2} $\n",
    "\n",
    "$ r_1 = \\sqrt{(x + \\mu)^2 + y^2} $\n",
    "\n",
    "$ r_2 = \\sqrt{((x - (1-\\mu))^2 + y^2} $\n",
    "\n",
    "$ \\mu = 3.001348389698916e-06 $\n",
    "\n",
    "$ L_1 = 0.9900289479871328 $\n",
    "\n",
    "Для поиска минимума следует для каждой орбиты:\n",
    "0. сформировать массивы `r` (строка из файла) и `theta = np.linspace(0., np.pi, 720)`\n",
    "1. построить сплайн `sr(theta)` при помощи `scipy.interpolate.InterpolatedUnivariateSpline` и данных из `п.0.`\n",
    "2. написать функцию `rth2xy(r, theta)` для вычисления координат `x-y` по координатам `r-theta` (не забывая, что `r` задан относительно $L_1$)\n",
    "3. написать функцию вычисления `w(x, y)`\n",
    "4. написать функцию вычисления `w1(theta) = w(rth2xy(sr(theta), theta))`, используя `пп.1.,2.,3.`\n",
    "5. минимизировать функцию `w1(theta)` для `theta` на отрезке `[1, 2.2]` при помощи `scipy.optimize.fminbound`\n",
    "6. по полученному `theta*` вычислить `x*,y* = rth2xy(sr(theta*), theta*)`"
   ]
  },
  {
   "cell_type": "code",
   "execution_count": null,
   "metadata": {},
   "outputs": [],
   "source": []
  },
  {
   "cell_type": "code",
   "execution_count": null,
   "metadata": {},
   "outputs": [],
   "source": []
  },
  {
   "cell_type": "code",
   "execution_count": null,
   "metadata": {},
   "outputs": [],
   "source": []
  },
  {
   "cell_type": "markdown",
   "metadata": {
    "task": 2
   },
   "source": [
    "-----\n",
    "#### Задание 2\n",
    "\n",
    "Рассчитать и изобразить:\n",
    "- [множество Мандельброта](https://ru.wikipedia.org/wiki/%D0%9C%D0%BD%D0%BE%D0%B6%D0%B5%D1%81%D1%82%D0%B2%D0%BE_%D0%9C%D0%B0%D0%BD%D0%B4%D0%B5%D0%BB%D1%8C%D0%B1%D1%80%D0%BE%D1%82%D0%B0) (четный номер в списке студентов)\n",
    "- [фрактал Ляпунова](https://ru.wikipedia.org/wiki/%D0%A4%D1%80%D0%B0%D0%BA%D1%82%D0%B0%D0%BB_%D0%9B%D1%8F%D0%BF%D1%83%D0%BD%D0%BE%D0%B2%D0%B0) (нечетный номер в списке студентов)\n",
    "\n",
    "План решения задачи:\n",
    "1. написать функцию для расчета в одной точке плоскости (и откомпилировать ее при помощи декоратора `@njit` модуля `numba`)\n",
    "2. написать функцию для расчета на прямоугольной равномерной решетке (и откомпилировать ее при помощи декоратора `@njit` модуля `numba`)\n",
    "3. выполнить расчет и получить матрицу значений\n",
    "4. при помощи `imshow` изобразить полученную матрицу (цветовую карту cmap выбрать самостоятельно)\n"
   ]
  },
  {
   "cell_type": "code",
   "execution_count": null,
   "metadata": {},
   "outputs": [],
   "source": []
  },
  {
   "cell_type": "code",
   "execution_count": null,
   "metadata": {},
   "outputs": [],
   "source": []
  },
  {
   "cell_type": "code",
   "execution_count": null,
   "metadata": {},
   "outputs": [],
   "source": []
  }
 ],
 "metadata": {
  "kernelspec": {
   "display_name": "Python 3",
   "language": "python",
   "name": "python3"
  },
  "language_info": {
   "codemirror_mode": {
    "name": "ipython",
    "version": 3
   },
   "file_extension": ".py",
   "mimetype": "text/x-python",
   "name": "python",
   "nbconvert_exporter": "python",
   "pygments_lexer": "ipython3",
   "version": "3.6.7"
  },
  "student": {
   "group": "БПМ-163",
   "hash": "5389cb6370",
   "name": "Виктория",
   "surname": "Ячменева"
  },
  "work": {
   "module": 4,
   "title": "home_work_mod4",
   "year": "2018_19"
  }
 },
 "nbformat": 4,
 "nbformat_minor": 2
}
